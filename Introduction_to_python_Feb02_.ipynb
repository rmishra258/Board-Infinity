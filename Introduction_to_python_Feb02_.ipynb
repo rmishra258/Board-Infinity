{
  "nbformat": 4,
  "nbformat_minor": 0,
  "metadata": {
    "colab": {
      "name": "Introduction to python Feb02 .ipynb",
      "provenance": [],
      "authorship_tag": "ABX9TyNQz91urg9GdJ/g9yxjMDhA",
      "include_colab_link": true
    },
    "kernelspec": {
      "name": "python3",
      "display_name": "Python 3"
    }
  },
  "cells": [
    {
      "cell_type": "markdown",
      "metadata": {
        "id": "view-in-github",
        "colab_type": "text"
      },
      "source": [
        "<a href=\"https://colab.research.google.com/github/rmishra258/Board-Infinity/blob/master/Introduction_to_python_Feb02_.ipynb\" target=\"_parent\"><img src=\"https://colab.research.google.com/assets/colab-badge.svg\" alt=\"Open In Colab\"/></a>"
      ]
    },
    {
      "cell_type": "code",
      "metadata": {
        "id": "grHJgxtHQDld",
        "colab_type": "code",
        "colab": {}
      },
      "source": [
        ""
      ],
      "execution_count": 0,
      "outputs": []
    },
    {
      "cell_type": "markdown",
      "metadata": {
        "id": "X5a-njIpQH0R",
        "colab_type": "text"
      },
      "source": [
        "My name is Rahul\n",
        "\n",
        "shift+enter to **execute**"
      ]
    },
    {
      "cell_type": "code",
      "metadata": {
        "id": "o4ettqBAQMIw",
        "colab_type": "code",
        "colab": {}
      },
      "source": [
        "myself = 'rahul'\n",
        "\n",
        "#form of string"
      ],
      "execution_count": 0,
      "outputs": []
    },
    {
      "cell_type": "code",
      "metadata": {
        "id": "6CRJ-qg6QPXY",
        "colab_type": "code",
        "colab": {
          "base_uri": "https://localhost:8080/",
          "height": 34
        },
        "outputId": "f8697978-129b-4e87-f0b9-5f55c24ad29c"
      },
      "source": [
        "myself"
      ],
      "execution_count": 5,
      "outputs": [
        {
          "output_type": "execute_result",
          "data": {
            "text/plain": [
              "'rahul'"
            ]
          },
          "metadata": {
            "tags": []
          },
          "execution_count": 5
        }
      ]
    },
    {
      "cell_type": "code",
      "metadata": {
        "id": "5n6wPzZMQSDy",
        "colab_type": "code",
        "colab": {}
      },
      "source": [
        "#form of number\n",
        "\n",
        "age = 27"
      ],
      "execution_count": 0,
      "outputs": []
    },
    {
      "cell_type": "code",
      "metadata": {
        "id": "mwXi1qvYRMrr",
        "colab_type": "code",
        "colab": {
          "base_uri": "https://localhost:8080/",
          "height": 34
        },
        "outputId": "2110a4f7-4992-4604-8818-8044a7fa7db4"
      },
      "source": [
        "age"
      ],
      "execution_count": 7,
      "outputs": [
        {
          "output_type": "execute_result",
          "data": {
            "text/plain": [
              "27"
            ]
          },
          "metadata": {
            "tags": []
          },
          "execution_count": 7
        }
      ]
    },
    {
      "cell_type": "code",
      "metadata": {
        "id": "A5hpReApRNaY",
        "colab_type": "code",
        "colab": {
          "base_uri": "https://localhost:8080/",
          "height": 52
        },
        "outputId": "dafe648b-47dc-4650-d801-581c451446b1"
      },
      "source": [
        "#print mulltiple variables\n",
        "\n",
        "print(name)\n",
        "print(age)"
      ],
      "execution_count": 8,
      "outputs": [
        {
          "output_type": "stream",
          "text": [
            "rahul\n",
            "27\n"
          ],
          "name": "stdout"
        }
      ]
    },
    {
      "cell_type": "code",
      "metadata": {
        "id": "7-oaUkE3R-nQ",
        "colab_type": "code",
        "colab": {}
      },
      "source": [
        "#boolen values\n",
        "\n",
        "male = True"
      ],
      "execution_count": 0,
      "outputs": []
    },
    {
      "cell_type": "code",
      "metadata": {
        "id": "cprhZsGQTTGu",
        "colab_type": "code",
        "colab": {
          "base_uri": "https://localhost:8080/",
          "height": 34
        },
        "outputId": "c366a7a7-246c-4d13-d34e-ddb6ea692abd"
      },
      "source": [
        "male"
      ],
      "execution_count": 12,
      "outputs": [
        {
          "output_type": "execute_result",
          "data": {
            "text/plain": [
              "True"
            ]
          },
          "metadata": {
            "tags": []
          },
          "execution_count": 12
        }
      ]
    },
    {
      "cell_type": "code",
      "metadata": {
        "id": "qI7wRblNTXMQ",
        "colab_type": "code",
        "colab": {}
      },
      "source": [
        "#floating numbers\n",
        "percentage = 66.9"
      ],
      "execution_count": 0,
      "outputs": []
    },
    {
      "cell_type": "code",
      "metadata": {
        "id": "HHx9iaQRUFwU",
        "colab_type": "code",
        "colab": {
          "base_uri": "https://localhost:8080/",
          "height": 34
        },
        "outputId": "80d78b8a-e548-4b7f-ae54-7a80f5080857"
      },
      "source": [
        "percentage"
      ],
      "execution_count": 14,
      "outputs": [
        {
          "output_type": "execute_result",
          "data": {
            "text/plain": [
              "66.9"
            ]
          },
          "metadata": {
            "tags": []
          },
          "execution_count": 14
        }
      ]
    },
    {
      "cell_type": "markdown",
      "metadata": {
        "id": "5ypqHbL3Upm5",
        "colab_type": "text"
      },
      "source": [
        "List stores a group of values\n",
        "\n",
        "it can be of only single data tyoe like numbers or multiple data types like\n",
        "numbers, string, boolean etc"
      ]
    },
    {
      "cell_type": "code",
      "metadata": {
        "id": "RVbkR4ssUHC1",
        "colab_type": "code",
        "colab": {}
      },
      "source": [
        "marks = [66.9, 70.1, 89, 'rahul mishra', True]"
      ],
      "execution_count": 0,
      "outputs": []
    },
    {
      "cell_type": "code",
      "metadata": {
        "id": "wDJN1AU5epsb",
        "colab_type": "code",
        "colab": {
          "base_uri": "https://localhost:8080/",
          "height": 34
        },
        "outputId": "7f6b7f3a-c66e-4dc6-de5f-d15db32ea715"
      },
      "source": [
        "#print out the length of list marks\n",
        "\n",
        "len(marks)"
      ],
      "execution_count": 43,
      "outputs": [
        {
          "output_type": "execute_result",
          "data": {
            "text/plain": [
              "5"
            ]
          },
          "metadata": {
            "tags": []
          },
          "execution_count": 43
        }
      ]
    },
    {
      "cell_type": "code",
      "metadata": {
        "id": "pixFJPIgU8or",
        "colab_type": "code",
        "colab": {
          "base_uri": "https://localhost:8080/",
          "height": 34
        },
        "outputId": "0b5d3f23-9b7f-4760-a8eb-10e5a5e7e53f"
      },
      "source": [
        "marks"
      ],
      "execution_count": 27,
      "outputs": [
        {
          "output_type": "execute_result",
          "data": {
            "text/plain": [
              "[66.9, 70.1, 89, 'rahul mishra', True]"
            ]
          },
          "metadata": {
            "tags": []
          },
          "execution_count": 27
        }
      ]
    },
    {
      "cell_type": "code",
      "metadata": {
        "id": "ETLe2Gx4U9RV",
        "colab_type": "code",
        "colab": {
          "base_uri": "https://localhost:8080/",
          "height": 34
        },
        "outputId": "f878e928-81ca-43d0-aed0-a813c88e00b9"
      },
      "source": [
        "#selecting and printing on specific object in list, always start counting from 0\n",
        "#for now print out your name which is the fourth entry in the list, remember, count starts from 0 \n",
        "\n",
        "marks[3]"
      ],
      "execution_count": 28,
      "outputs": [
        {
          "output_type": "execute_result",
          "data": {
            "text/plain": [
              "'rahul mishra'"
            ]
          },
          "metadata": {
            "tags": []
          },
          "execution_count": 28
        }
      ]
    },
    {
      "cell_type": "code",
      "metadata": {
        "id": "YKzZUS_RWDsJ",
        "colab_type": "code",
        "colab": {}
      },
      "source": [
        "education = {'tenth' : 66.9, 'twelth' : 70.1, \n",
        "             'graduation' : 89, 'name' : 'rahul mishra', 'male' : True}"
      ],
      "execution_count": 0,
      "outputs": []
    },
    {
      "cell_type": "code",
      "metadata": {
        "id": "UkOWQbZBXPtT",
        "colab_type": "code",
        "colab": {
          "base_uri": "https://localhost:8080/",
          "height": 104
        },
        "outputId": "c09ffd89-3f4f-4dff-ac2f-8acd76fb5471"
      },
      "source": [
        "education"
      ],
      "execution_count": 30,
      "outputs": [
        {
          "output_type": "execute_result",
          "data": {
            "text/plain": [
              "{'graduation': 89,\n",
              " 'male': True,\n",
              " 'name': 'rahul mishra',\n",
              " 'tenth': 66.9,\n",
              " 'twelth': 70.1}"
            ]
          },
          "metadata": {
            "tags": []
          },
          "execution_count": 30
        }
      ]
    },
    {
      "cell_type": "code",
      "metadata": {
        "id": "MJSCA48NXRKd",
        "colab_type": "code",
        "colab": {
          "base_uri": "https://localhost:8080/",
          "height": 34
        },
        "outputId": "aee095a0-ec9a-4cc0-b0d5-f208d0b0cd34"
      },
      "source": [
        "#selecting an item from a dictionary\n",
        "#print only your 10th grade\n",
        "\n",
        "education['tenth']"
      ],
      "execution_count": 32,
      "outputs": [
        {
          "output_type": "execute_result",
          "data": {
            "text/plain": [
              "66.9"
            ]
          },
          "metadata": {
            "tags": []
          },
          "execution_count": 32
        }
      ]
    },
    {
      "cell_type": "code",
      "metadata": {
        "id": "EJQr7dIMZYfx",
        "colab_type": "code",
        "colab": {
          "base_uri": "https://localhost:8080/",
          "height": 34
        },
        "outputId": "bddfebd1-98d1-4141-e92f-8dd4aa5323c0"
      },
      "source": [
        "#print only keys\n",
        "#it will return a list of keys\n",
        "\n",
        "education.keys()"
      ],
      "execution_count": 33,
      "outputs": [
        {
          "output_type": "execute_result",
          "data": {
            "text/plain": [
              "dict_keys(['tenth', 'twelth', 'graduation', 'name', 'male'])"
            ]
          },
          "metadata": {
            "tags": []
          },
          "execution_count": 33
        }
      ]
    },
    {
      "cell_type": "code",
      "metadata": {
        "id": "IdCphgflZys3",
        "colab_type": "code",
        "colab": {
          "base_uri": "https://localhost:8080/",
          "height": 34
        },
        "outputId": "716cc467-6950-4356-f159-80373473c49d"
      },
      "source": [
        "#print out only values\n",
        "#it will return a list of values\n",
        "\n",
        "education.values()"
      ],
      "execution_count": 36,
      "outputs": [
        {
          "output_type": "execute_result",
          "data": {
            "text/plain": [
              "dict_values([66.9, 70.1, 89, 'rahul mishra', True])"
            ]
          },
          "metadata": {
            "tags": []
          },
          "execution_count": 36
        }
      ]
    },
    {
      "cell_type": "code",
      "metadata": {
        "id": "cklyTn2LaK8C",
        "colab_type": "code",
        "colab": {}
      },
      "source": [
        "#make a dictionary contaning a list of marks of 3 students\n",
        "\n",
        "students = {'stu1' : [88, 67.9, 50],\n",
        "            'stu2' : [45.7 , 66, 90],\n",
        "            'stu3' : [36, 77, 88.12]}"
      ],
      "execution_count": 0,
      "outputs": []
    },
    {
      "cell_type": "code",
      "metadata": {
        "id": "qYNLUc8TcuKO",
        "colab_type": "code",
        "colab": {
          "base_uri": "https://localhost:8080/",
          "height": 34
        },
        "outputId": "dca98a0c-7e9d-45a4-855a-3366c3064fd9"
      },
      "source": [
        "#print the marks for student 2 (only his graduation score)\n",
        "\n",
        "students['stu2'][2]"
      ],
      "execution_count": 42,
      "outputs": [
        {
          "output_type": "execute_result",
          "data": {
            "text/plain": [
              "90"
            ]
          },
          "metadata": {
            "tags": []
          },
          "execution_count": 42
        }
      ]
    },
    {
      "cell_type": "code",
      "metadata": {
        "id": "FCoZIFfBbKfg",
        "colab_type": "code",
        "colab": {}
      },
      "source": [
        "#make a list containing a dictionary\n",
        "\n",
        "friends = [{'name' : 'rahul', 'age' : 27}, {'name' : 'ravi', 'age' : 26}]"
      ],
      "execution_count": 0,
      "outputs": []
    },
    {
      "cell_type": "code",
      "metadata": {
        "id": "3d5OxKL_bbRB",
        "colab_type": "code",
        "colab": {
          "base_uri": "https://localhost:8080/",
          "height": 34
        },
        "outputId": "f8859069-8469-407d-faa3-a6b36ac3a66c"
      },
      "source": [
        "#find out the type of data for variable marks\n",
        "\n",
        "type(marks)"
      ],
      "execution_count": 47,
      "outputs": [
        {
          "output_type": "execute_result",
          "data": {
            "text/plain": [
              "list"
            ]
          },
          "metadata": {
            "tags": []
          },
          "execution_count": 47
        }
      ]
    },
    {
      "cell_type": "code",
      "metadata": {
        "id": "n9ZJVxoVfwRC",
        "colab_type": "code",
        "colab": {
          "base_uri": "https://localhost:8080/",
          "height": 34
        },
        "outputId": "f4fd93fc-5622-4711-f2e6-cb3d4ff272df"
      },
      "source": [
        "#create a new list with names of 3 friends, print it and add a fourth friend\n",
        "\n",
        "my_friends = ['rahul', 'anshul', 'shubham']\n",
        "\n",
        "my_friends"
      ],
      "execution_count": 66,
      "outputs": [
        {
          "output_type": "execute_result",
          "data": {
            "text/plain": [
              "['rahul', 'anshul', 'shubham']"
            ]
          },
          "metadata": {
            "tags": []
          },
          "execution_count": 66
        }
      ]
    },
    {
      "cell_type": "code",
      "metadata": {
        "id": "Zxn7kcfVgRxQ",
        "colab_type": "code",
        "colab": {}
      },
      "source": [
        "my_friends.append('lisa')"
      ],
      "execution_count": 0,
      "outputs": []
    },
    {
      "cell_type": "code",
      "metadata": {
        "id": "Q_akyKhJgiwl",
        "colab_type": "code",
        "colab": {
          "base_uri": "https://localhost:8080/",
          "height": 34
        },
        "outputId": "cc6c6c7c-c53c-4ba1-b0a1-854b6c614a57"
      },
      "source": [
        "my_friends"
      ],
      "execution_count": 68,
      "outputs": [
        {
          "output_type": "execute_result",
          "data": {
            "text/plain": [
              "['rahul', 'anshul', 'shubham', 'lisa']"
            ]
          },
          "metadata": {
            "tags": []
          },
          "execution_count": 68
        }
      ]
    },
    {
      "cell_type": "code",
      "metadata": {
        "id": "SQS1ZUcoglpp",
        "colab_type": "code",
        "colab": {}
      },
      "source": [
        "#add an element in the first position\n",
        "my_friends[0] = 'sumit'"
      ],
      "execution_count": 0,
      "outputs": []
    },
    {
      "cell_type": "code",
      "metadata": {
        "id": "VSH1xbTHg5d-",
        "colab_type": "code",
        "colab": {
          "base_uri": "https://localhost:8080/",
          "height": 34
        },
        "outputId": "6d7712c4-3e24-43b5-f06e-bdbfcebe0102"
      },
      "source": [
        "my_friends"
      ],
      "execution_count": 71,
      "outputs": [
        {
          "output_type": "execute_result",
          "data": {
            "text/plain": [
              "['sumit', 'anshul', 'shubham', 'lisa']"
            ]
          },
          "metadata": {
            "tags": []
          },
          "execution_count": 71
        }
      ]
    },
    {
      "cell_type": "code",
      "metadata": {
        "id": "_JEzku9ckm73",
        "colab_type": "code",
        "colab": {}
      },
      "source": [
        ""
      ],
      "execution_count": 0,
      "outputs": []
    }
  ]
}