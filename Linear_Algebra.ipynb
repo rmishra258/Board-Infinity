{
  "nbformat": 4,
  "nbformat_minor": 0,
  "metadata": {
    "colab": {
      "name": "Linear Algebra.ipynb",
      "provenance": [],
      "include_colab_link": true
    },
    "kernelspec": {
      "name": "python3",
      "display_name": "Python 3"
    }
  },
  "cells": [
    {
      "cell_type": "markdown",
      "metadata": {
        "id": "view-in-github",
        "colab_type": "text"
      },
      "source": [
        "<a href=\"https://colab.research.google.com/github/rmishra258/Board-Infinity/blob/master/Linear_Algebra.ipynb\" target=\"_parent\"><img src=\"https://colab.research.google.com/assets/colab-badge.svg\" alt=\"Open In Colab\"/></a>"
      ]
    },
    {
      "cell_type": "code",
      "metadata": {
        "id": "C85XBPv_wXVy",
        "colab_type": "code",
        "colab": {}
      },
      "source": [
        "\"\"\"\n",
        "\n",
        "Linear algebra in significantly used in recommender systems - especially colllaborative filtering\n",
        "\n",
        "Practical use of linear algebra - \n",
        "https://towardsdatascience.com/intro-to-recommender-system-collaborative-filtering-64a238194a26\n",
        "\"\"\""
      ],
      "execution_count": 0,
      "outputs": []
    },
    {
      "cell_type": "code",
      "metadata": {
        "id": "d9sl4fmV0382",
        "colab_type": "code",
        "colab": {}
      },
      "source": [
        "import numpy as np"
      ],
      "execution_count": 0,
      "outputs": []
    },
    {
      "cell_type": "code",
      "metadata": {
        "id": "mcqbxOS7xr4Z",
        "colab_type": "code",
        "colab": {}
      },
      "source": [
        "\"\"\"\n",
        "VECTOR QUANTITY\n",
        "\n",
        "Sclar - 3 km/h, 35 Knots (does not have direction)\n",
        "\n",
        "Vector will have magnitude and direction\n",
        "\n",
        "5 kmph, North \n",
        "10 Knots, East \n",
        "\n",
        "example = [1,2,3]\n",
        "\n",
        "\"\"\""
      ],
      "execution_count": 0,
      "outputs": []
    },
    {
      "cell_type": "code",
      "metadata": {
        "id": "qlNywvvR020r",
        "colab_type": "code",
        "colab": {
          "base_uri": "https://localhost:8080/",
          "height": 34
        },
        "outputId": "8f3ea8b9-3d03-4cb1-d888-4be3b3bb538b"
      },
      "source": [
        "vector_1 = np.array([10,20,30,40])\n",
        "\n",
        "vector_1"
      ],
      "execution_count": 2,
      "outputs": [
        {
          "output_type": "execute_result",
          "data": {
            "text/plain": [
              "array([10, 20, 30, 40])"
            ]
          },
          "metadata": {
            "tags": []
          },
          "execution_count": 2
        }
      ]
    },
    {
      "cell_type": "code",
      "metadata": {
        "id": "AesT78qqyXSE",
        "colab_type": "code",
        "colab": {}
      },
      "source": [
        "\"\"\"\n",
        "Group of vectors can be called a matrix\n",
        "example = [[1,2,3], [4,5,6]]\n",
        "\"\"\""
      ],
      "execution_count": 0,
      "outputs": []
    },
    {
      "cell_type": "code",
      "metadata": {
        "id": "ljDPFAZ_1EIY",
        "colab_type": "code",
        "colab": {
          "base_uri": "https://localhost:8080/",
          "height": 51
        },
        "outputId": "8ed83490-124f-4958-be34-6d49a5250e3f"
      },
      "source": [
        "matrix_1 = np.array([[1,2,3],\n",
        "                     [4,5,6]])\n",
        "\n",
        "matrix_1"
      ],
      "execution_count": 4,
      "outputs": [
        {
          "output_type": "execute_result",
          "data": {
            "text/plain": [
              "array([[1, 2, 3],\n",
              "       [4, 5, 6]])"
            ]
          },
          "metadata": {
            "tags": []
          },
          "execution_count": 4
        }
      ]
    },
    {
      "cell_type": "code",
      "metadata": {
        "id": "lE5BGRVU1KlE",
        "colab_type": "code",
        "colab": {}
      },
      "source": [
        "\"\"\"\n",
        "Vector calculations using sclar quanity\n",
        "\n",
        "Addition\n",
        "[1,2,3] + 2 = [1+2, 2+2, 3+2] = [3,4,5]\n",
        "\n",
        "Subraction\n",
        "[4,6,8] - 2 = [4-2, 6-2, 8-2] = [2,4,6]\n",
        "\n",
        "Multiplication\n",
        "[1,2,3] * 2 = [1*2, 2*2, 3*2] = [2,4,6]\n",
        "\n",
        "Division\n",
        "[2,4,6] / 2 = [2/2, 4/2, 6/2] = [1,2,3]\n",
        "\"\"\""
      ],
      "execution_count": 0,
      "outputs": []
    },
    {
      "cell_type": "code",
      "metadata": {
        "id": "1igUWpo73BF1",
        "colab_type": "code",
        "colab": {
          "base_uri": "https://localhost:8080/",
          "height": 34
        },
        "outputId": "f41f0b1f-3a6a-400a-84e2-03fa4f2ce3ae"
      },
      "source": [
        "#Addition\n",
        "vec_1 = np.array([1,2,3])\n",
        "vec_1 + 2"
      ],
      "execution_count": 7,
      "outputs": [
        {
          "output_type": "execute_result",
          "data": {
            "text/plain": [
              "array([3, 4, 5])"
            ]
          },
          "metadata": {
            "tags": []
          },
          "execution_count": 7
        }
      ]
    },
    {
      "cell_type": "code",
      "metadata": {
        "id": "LSY7Hy8e3G0L",
        "colab_type": "code",
        "colab": {
          "base_uri": "https://localhost:8080/",
          "height": 34
        },
        "outputId": "6659ea71-3933-4e8d-8866-881c69fcd37f"
      },
      "source": [
        "#Subraction\n",
        "vec_2 = np.array([4,6,8])\n",
        "vec_2 - 2"
      ],
      "execution_count": 8,
      "outputs": [
        {
          "output_type": "execute_result",
          "data": {
            "text/plain": [
              "array([2, 4, 6])"
            ]
          },
          "metadata": {
            "tags": []
          },
          "execution_count": 8
        }
      ]
    },
    {
      "cell_type": "code",
      "metadata": {
        "id": "yWuZDw2W3S8G",
        "colab_type": "code",
        "colab": {
          "base_uri": "https://localhost:8080/",
          "height": 34
        },
        "outputId": "7861fb46-002c-4168-d078-113f58782194"
      },
      "source": [
        "#Multiplication\n",
        "vec_3 = np.array([1,2,3])\n",
        "vec_3 * 2"
      ],
      "execution_count": 9,
      "outputs": [
        {
          "output_type": "execute_result",
          "data": {
            "text/plain": [
              "array([2, 4, 6])"
            ]
          },
          "metadata": {
            "tags": []
          },
          "execution_count": 9
        }
      ]
    },
    {
      "cell_type": "code",
      "metadata": {
        "id": "Ddz2Z5y43l-0",
        "colab_type": "code",
        "colab": {
          "base_uri": "https://localhost:8080/",
          "height": 34
        },
        "outputId": "ec60e6af-f6be-4472-cf80-2fbe9d08bf49"
      },
      "source": [
        "#Division\n",
        "vec_4 = np.array([2,4,6])\n",
        "vec_4 / 2"
      ],
      "execution_count": 12,
      "outputs": [
        {
          "output_type": "execute_result",
          "data": {
            "text/plain": [
              "array([1., 2., 3.])"
            ]
          },
          "metadata": {
            "tags": []
          },
          "execution_count": 12
        }
      ]
    },
    {
      "cell_type": "code",
      "metadata": {
        "id": "ey0-3Z353uK5",
        "colab_type": "code",
        "colab": {}
      },
      "source": [
        "\"\"\"\n",
        "Doing mathematical operation on a MATRIX\n",
        "\"\"\" "
      ],
      "execution_count": 0,
      "outputs": []
    },
    {
      "cell_type": "code",
      "metadata": {
        "id": "g7ZKHd9h4hQq",
        "colab_type": "code",
        "colab": {
          "base_uri": "https://localhost:8080/",
          "height": 51
        },
        "outputId": "42cb1e8b-39d3-4546-d0f5-76ea9f7e4bb6"
      },
      "source": [
        "#Addition\n",
        "matrix_1 = np.array([[2,4], [6,8]])\n",
        "matrix_1 + 10 "
      ],
      "execution_count": 14,
      "outputs": [
        {
          "output_type": "execute_result",
          "data": {
            "text/plain": [
              "array([[12, 14],\n",
              "       [16, 18]])"
            ]
          },
          "metadata": {
            "tags": []
          },
          "execution_count": 14
        }
      ]
    },
    {
      "cell_type": "code",
      "metadata": {
        "id": "yCcTYE_h4pNX",
        "colab_type": "code",
        "colab": {
          "base_uri": "https://localhost:8080/",
          "height": 51
        },
        "outputId": "f53dafd4-d7e1-436f-cb59-04604e4d4f6e"
      },
      "source": [
        "#Subraction \n",
        "matrix_2 = np.array([[2,4], [6,8]])\n",
        "matrix_2 - 2"
      ],
      "execution_count": 15,
      "outputs": [
        {
          "output_type": "execute_result",
          "data": {
            "text/plain": [
              "array([[0, 2],\n",
              "       [4, 6]])"
            ]
          },
          "metadata": {
            "tags": []
          },
          "execution_count": 15
        }
      ]
    },
    {
      "cell_type": "code",
      "metadata": {
        "id": "rKtBUfHH45AT",
        "colab_type": "code",
        "colab": {
          "base_uri": "https://localhost:8080/",
          "height": 51
        },
        "outputId": "de3746d6-3e98-48c4-b81c-7d6000a21e97"
      },
      "source": [
        "#Multiplication\n",
        "matrix_3 = np.array([[2,4], [6,8]])\n",
        "matrix_3 * 2"
      ],
      "execution_count": 16,
      "outputs": [
        {
          "output_type": "execute_result",
          "data": {
            "text/plain": [
              "array([[ 4,  8],\n",
              "       [12, 16]])"
            ]
          },
          "metadata": {
            "tags": []
          },
          "execution_count": 16
        }
      ]
    },
    {
      "cell_type": "code",
      "metadata": {
        "id": "H6Mf1tEX5H41",
        "colab_type": "code",
        "colab": {
          "base_uri": "https://localhost:8080/",
          "height": 51
        },
        "outputId": "8a37c811-6735-47f5-e2a2-7f5c179f77ea"
      },
      "source": [
        "#Division\n",
        "matrix_4 = np.array([[2,4], [6,8]])\n",
        "matrix_4 / 2"
      ],
      "execution_count": 20,
      "outputs": [
        {
          "output_type": "execute_result",
          "data": {
            "text/plain": [
              "array([[1., 2.],\n",
              "       [3., 4.]])"
            ]
          },
          "metadata": {
            "tags": []
          },
          "execution_count": 20
        }
      ]
    },
    {
      "cell_type": "code",
      "metadata": {
        "id": "ShuoGinG5XI0",
        "colab_type": "code",
        "colab": {}
      },
      "source": [
        "\"\"\"\n",
        "Matrix multiplication\n",
        "\n",
        "Multiplying a matrix by another martix \n",
        "\n",
        "Matrix 1\n",
        "[[2, 2],\n",
        " [3, 2],\n",
        " [9, 4]]\n",
        "\n",
        "3 rows by 2 columns\n",
        "\n",
        "Martix 2\n",
        "[6, 8, 9],\n",
        "[2, 4, 2]]\n",
        "\n",
        "2 rows by 3 columns\n",
        "\n",
        "Multiplication as follows\n",
        "\n",
        "3*2 <=> 2*3\n",
        "\n",
        "Final matrix will be a 3*3 matrix\n",
        "\n",
        "Matrix 1 * Matrix 2\n",
        "\n",
        "Matrix 1 \n",
        "[[2, 2],\n",
        " [3, 2],\n",
        " [9, 4]]\n",
        "\n",
        "Martix 2\n",
        "[6, 8, 9],\n",
        "[2, 4, 2]]\n",
        "\n",
        "Multiply \n",
        "\n",
        "Take each rows of the first matrix and multiply them by every columns in second matrix\n",
        "\n",
        "[[2*6 + 2*2], [2*8 + 2*4], [2*9 + 2*2],\n",
        " [3*6 + 2*2], [3*8 + 2*4], [9*9 + 4*2],\n",
        " [9*6 + 4*2], [9*8 + 4*4], [9*9 + 4*2]]\n",
        "\n",
        " = [[16, 24, 22],\n",
        "    [22, 32, 89],\n",
        "    [62, 88, 89]]\n",
        "\n",
        "Rule of thumb\n",
        "1) Matrix can only multiply if the Count of the COLUMNS in first matrix is EQUAL to the Count of the ROWS in second matrix\n",
        "2) The final product will be EQUAL to the Count of the ROWS in first matrix and Count of the COLUMNS in second matrix\n",
        "\"\"\""
      ],
      "execution_count": 0,
      "outputs": []
    },
    {
      "cell_type": "code",
      "metadata": {
        "id": "GwOG2ubO82Z5",
        "colab_type": "code",
        "colab": {
          "base_uri": "https://localhost:8080/",
          "height": 68
        },
        "outputId": "9cdeaf50-de27-459b-94bd-993e87617473"
      },
      "source": [
        "matrix_1 = np.array([2,2,3,2,9,4]).reshape(3,2)\n",
        "\n",
        "matrix_1"
      ],
      "execution_count": 29,
      "outputs": [
        {
          "output_type": "execute_result",
          "data": {
            "text/plain": [
              "array([[2, 2],\n",
              "       [3, 2],\n",
              "       [9, 4]])"
            ]
          },
          "metadata": {
            "tags": []
          },
          "execution_count": 29
        }
      ]
    },
    {
      "cell_type": "code",
      "metadata": {
        "id": "g4Rzxzaw9AkV",
        "colab_type": "code",
        "colab": {
          "base_uri": "https://localhost:8080/",
          "height": 51
        },
        "outputId": "bd56e018-c933-4581-e3cf-f7be999753f0"
      },
      "source": [
        "matrix_2 = np.array([6,8,9,2,4,2]).reshape(2,3)\n",
        "matrix_2"
      ],
      "execution_count": 31,
      "outputs": [
        {
          "output_type": "execute_result",
          "data": {
            "text/plain": [
              "array([[6, 8, 9],\n",
              "       [2, 4, 2]])"
            ]
          },
          "metadata": {
            "tags": []
          },
          "execution_count": 31
        }
      ]
    },
    {
      "cell_type": "code",
      "metadata": {
        "id": "p8-5uSGn9drf",
        "colab_type": "code",
        "colab": {
          "base_uri": "https://localhost:8080/",
          "height": 68
        },
        "outputId": "028ca2ab-1349-4ccd-d573-13e4a78f6208"
      },
      "source": [
        "np.dot(matrix_1, matrix_2)"
      ],
      "execution_count": 32,
      "outputs": [
        {
          "output_type": "execute_result",
          "data": {
            "text/plain": [
              "array([[16, 24, 22],\n",
              "       [22, 32, 31],\n",
              "       [62, 88, 89]])"
            ]
          },
          "metadata": {
            "tags": []
          },
          "execution_count": 32
        }
      ]
    },
    {
      "cell_type": "code",
      "metadata": {
        "id": "y1cG5dOpAqSj",
        "colab_type": "code",
        "colab": {}
      },
      "source": [
        "\"\"\"\n",
        "if I change the shape of the first matrix to 2,2 and try to multiply by 2,3 matrix it will give me an error since it does not follow the rule\n",
        "\"\"\""
      ],
      "execution_count": 0,
      "outputs": []
    },
    {
      "cell_type": "code",
      "metadata": {
        "id": "gRyBBa9oDMKk",
        "colab_type": "code",
        "colab": {
          "base_uri": "https://localhost:8080/",
          "height": 233
        },
        "outputId": "079ecd28-810c-4ec9-d909-9c3a22ee7171"
      },
      "source": [
        "matrix_1 = np.array([2,2,3,2,9,4,4,6,7]).reshape(3,3)\n",
        "\n",
        "np.dot(matrix_1, matrix_2)\n"
      ],
      "execution_count": 34,
      "outputs": [
        {
          "output_type": "error",
          "ename": "ValueError",
          "evalue": "ignored",
          "traceback": [
            "\u001b[0;31m---------------------------------------------------------------------------\u001b[0m",
            "\u001b[0;31mValueError\u001b[0m                                Traceback (most recent call last)",
            "\u001b[0;32m<ipython-input-34-ae750518508f>\u001b[0m in \u001b[0;36m<module>\u001b[0;34m()\u001b[0m\n\u001b[1;32m      1\u001b[0m \u001b[0mmatrix_1\u001b[0m \u001b[0;34m=\u001b[0m \u001b[0mnp\u001b[0m\u001b[0;34m.\u001b[0m\u001b[0marray\u001b[0m\u001b[0;34m(\u001b[0m\u001b[0;34m[\u001b[0m\u001b[0;36m2\u001b[0m\u001b[0;34m,\u001b[0m\u001b[0;36m2\u001b[0m\u001b[0;34m,\u001b[0m\u001b[0;36m3\u001b[0m\u001b[0;34m,\u001b[0m\u001b[0;36m2\u001b[0m\u001b[0;34m,\u001b[0m\u001b[0;36m9\u001b[0m\u001b[0;34m,\u001b[0m\u001b[0;36m4\u001b[0m\u001b[0;34m,\u001b[0m\u001b[0;36m4\u001b[0m\u001b[0;34m,\u001b[0m\u001b[0;36m6\u001b[0m\u001b[0;34m,\u001b[0m\u001b[0;36m7\u001b[0m\u001b[0;34m]\u001b[0m\u001b[0;34m)\u001b[0m\u001b[0;34m.\u001b[0m\u001b[0mreshape\u001b[0m\u001b[0;34m(\u001b[0m\u001b[0;36m3\u001b[0m\u001b[0;34m,\u001b[0m\u001b[0;36m3\u001b[0m\u001b[0;34m)\u001b[0m\u001b[0;34m\u001b[0m\u001b[0;34m\u001b[0m\u001b[0m\n\u001b[1;32m      2\u001b[0m \u001b[0;34m\u001b[0m\u001b[0m\n\u001b[0;32m----> 3\u001b[0;31m \u001b[0mnp\u001b[0m\u001b[0;34m.\u001b[0m\u001b[0mdot\u001b[0m\u001b[0;34m(\u001b[0m\u001b[0mmatrix_1\u001b[0m\u001b[0;34m,\u001b[0m \u001b[0mmatrix_2\u001b[0m\u001b[0;34m)\u001b[0m\u001b[0;34m\u001b[0m\u001b[0;34m\u001b[0m\u001b[0m\n\u001b[0m",
            "\u001b[0;32m<__array_function__ internals>\u001b[0m in \u001b[0;36mdot\u001b[0;34m(*args, **kwargs)\u001b[0m\n",
            "\u001b[0;31mValueError\u001b[0m: shapes (3,3) and (2,3) not aligned: 3 (dim 1) != 2 (dim 0)"
          ]
        }
      ]
    },
    {
      "cell_type": "code",
      "metadata": {
        "id": "naDUAU0bDVZF",
        "colab_type": "code",
        "colab": {}
      },
      "source": [
        ""
      ],
      "execution_count": 0,
      "outputs": []
    }
  ]
}